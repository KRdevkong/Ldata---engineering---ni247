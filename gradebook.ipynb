{
 "cells": [
  {
   "cell_type": "code",
   "execution_count": 1,
   "id": "18c22625-66c7-4956-8632-e4f95fb0d33b",
   "metadata": {},
   "outputs": [],
   "source": [
    "subject = [\"physics\", \"calculus\", \"poetry\", \"history\"]"
   ]
  },
  {
   "cell_type": "code",
   "execution_count": 2,
   "id": "e7a348ed-a653-4405-ac29-a0777a4d633d",
   "metadata": {},
   "outputs": [],
   "source": [
    "grades = [98, 97, 85, 88]"
   ]
  },
  {
   "cell_type": "code",
   "execution_count": 3,
   "id": "6d208b25-ce28-448f-a199-3954c5fea4b6",
   "metadata": {},
   "outputs": [],
   "source": [
    "gradebook = [[\"physics\", 98], [\"calculus\", 97], [\"poetry\", 85], [\"hsitory\", 88]]"
   ]
  },
  {
   "cell_type": "code",
   "execution_count": 5,
   "id": "43d050eb-689c-422b-936b-724f1a926ff2",
   "metadata": {},
   "outputs": [
    {
     "name": "stdout",
     "output_type": "stream",
     "text": [
      "[['physics', 98], ['calculus', 97], ['poetry', 85], ['hsitory', 88]]\n"
     ]
    }
   ],
   "source": [
    "print(gradebook)"
   ]
  },
  {
   "cell_type": "code",
   "execution_count": 12,
   "id": "ded9588f-de87-464f-bcad-c91cfba309ec",
   "metadata": {},
   "outputs": [],
   "source": [
    "gradebook.append([\"computer\", 100])"
   ]
  },
  {
   "cell_type": "code",
   "execution_count": 11,
   "id": "1f80f9c0-add2-44a0-a280-3ecde5b2cdab",
   "metadata": {},
   "outputs": [],
   "source": [
    "gradebook.append([\"visual arts\", 93])"
   ]
  },
  {
   "cell_type": "code",
   "execution_count": 28,
   "id": "07d59a56-7ae2-4c6e-88ae-df0525613a70",
   "metadata": {},
   "outputs": [
    {
     "name": "stdout",
     "output_type": "stream",
     "text": [
      "[['physics', 98], ['calculus', 97], ['poetry', 'pass'], ['hsitory', 88], ['computer', 100], ['visual arts', 93], ['computer', 98]]\n"
     ]
    }
   ],
   "source": [
    "print(gradebook)"
   ]
  },
  {
   "cell_type": "code",
   "execution_count": 18,
   "id": "6639a0ef-d021-4dd6-955c-bcbe6c377683",
   "metadata": {},
   "outputs": [],
   "source": [
    "gradebook[-1][1] = 98"
   ]
  },
  {
   "cell_type": "code",
   "execution_count": 26,
   "id": "2b402142-2fc1-40a1-ba39-327f816453c9",
   "metadata": {},
   "outputs": [],
   "source": [
    "gradebook[2].remove(85)"
   ]
  },
  {
   "cell_type": "code",
   "execution_count": 27,
   "id": "dbeacadd-1709-42d6-b8c9-e766af4de36f",
   "metadata": {},
   "outputs": [],
   "source": [
    "gradebook[2].append(\"pass\")"
   ]
  },
  {
   "cell_type": "code",
   "execution_count": 29,
   "id": "cd262917-3866-485e-83ca-ad649823857b",
   "metadata": {},
   "outputs": [
    {
     "name": "stdout",
     "output_type": "stream",
     "text": [
      "[['physics', 98], ['calculus', 97], ['poetry', 'pass'], ['hsitory', 88], ['computer', 100], ['visual arts', 93], ['computer', 98]]\n"
     ]
    }
   ],
   "source": [
    "print(gradebook)"
   ]
  },
  {
   "cell_type": "code",
   "execution_count": 30,
   "id": "d1ec8762-2c39-4b0e-b76d-3feadbceaf10",
   "metadata": {},
   "outputs": [],
   "source": [
    "last_semester_gradebook = [[\"politics\", 80], [\"latin\", 96], [\"dance\", 97], [\"architecture\", 65]]"
   ]
  },
  {
   "cell_type": "code",
   "execution_count": 32,
   "id": "61d9d92d-e501-498a-8803-525ed9828bd8",
   "metadata": {},
   "outputs": [],
   "source": [
    "full_gradebook = last_semester_gradebook + gradebook"
   ]
  },
  {
   "cell_type": "code",
   "execution_count": 33,
   "id": "a0b0dbb3-5f81-4b42-8fcf-afa5a7c3236f",
   "metadata": {},
   "outputs": [
    {
     "name": "stdout",
     "output_type": "stream",
     "text": [
      "[['politics', 80], ['latin', 96], ['dance', 97], ['architecture', 65], ['physics', 98], ['calculus', 97], ['poetry', 'pass'], ['hsitory', 88], ['computer', 100], ['visual arts', 93], ['computer', 98]]\n"
     ]
    }
   ],
   "source": [
    "print(full_gradebook)"
   ]
  }
 ],
 "metadata": {
  "kernelspec": {
   "display_name": "Python 3 (ipykernel)",
   "language": "python",
   "name": "python3"
  },
  "language_info": {
   "codemirror_mode": {
    "name": "ipython",
    "version": 3
   },
   "file_extension": ".py",
   "mimetype": "text/x-python",
   "name": "python",
   "nbconvert_exporter": "python",
   "pygments_lexer": "ipython3",
   "version": "3.9.12"
  }
 },
 "nbformat": 4,
 "nbformat_minor": 5
}
