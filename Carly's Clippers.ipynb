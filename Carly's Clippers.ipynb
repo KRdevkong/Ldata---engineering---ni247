{
 "cells": [
  {
   "cell_type": "code",
   "execution_count": 1,
   "id": "a2307b26-a057-4800-8d9d-dd5e97b28974",
   "metadata": {},
   "outputs": [],
   "source": [
    "hairstyles = [\"bouffant\", \"pixie\", \"dreadlocks\", \"crew\", \"bowl\", \"bob\", \"mohawk\", \"flattop\"]"
   ]
  },
  {
   "cell_type": "code",
   "execution_count": 2,
   "id": "b2b7faad-3be6-459e-98c8-0ff2b2128211",
   "metadata": {},
   "outputs": [
    {
     "name": "stdout",
     "output_type": "stream",
     "text": [
      "Average price is 31.875\n"
     ]
    }
   ],
   "source": [
    "prices = [30, 25, 40, 20, 20, 35, 50, 35]\n",
    "last_week = [2, 3, 5, 8, 4, 4, 6, 2]\n",
    "total_price = 0\n",
    "for i in range(len(prices)):\n",
    "    total_price += prices[i]\n",
    "average_price = total_price / len(prices)\n",
    "print('Average price is',average_price)"
   ]
  },
  {
   "cell_type": "code",
   "execution_count": 3,
   "id": "49a3e3c1-1534-441b-9f70-359ee612da33",
   "metadata": {},
   "outputs": [
    {
     "name": "stdout",
     "output_type": "stream",
     "text": [
      "[25, 20, 35, 15, 15, 30, 45, 30]\n"
     ]
    }
   ],
   "source": [
    "new_prices =[price - 5 for price in prices]\n",
    "print(new_prices)"
   ]
  },
  {
   "cell_type": "code",
   "execution_count": 4,
   "id": "a03beb3c-2b50-45d3-b687-8644e46e9c38",
   "metadata": {},
   "outputs": [
    {
     "name": "stdout",
     "output_type": "stream",
     "text": [
      "1085\n",
      "Average daily revenue is 155.0\n"
     ]
    }
   ],
   "source": [
    "total_revenue = 0\n",
    "for i in range(len(hairstyles)):\n",
    "    total_revenue += prices[i] * last_week[i]\n",
    "    \n",
    "print(total_revenue)\n",
    "    \n",
    "average_daily_revenue = total_revenue / 7    \n",
    "print('Average daily revenue is', average_daily_revenue)"
   ]
  },
  {
   "cell_type": "code",
   "execution_count": 5,
   "id": "5800bcb3-ecda-4cba-92e7-20f22ed6a537",
   "metadata": {},
   "outputs": [
    {
     "name": "stdout",
     "output_type": "stream",
     "text": [
      "['bouffant', 'pixie', 'crew', 'bowl']\n"
     ]
    }
   ],
   "source": [
    "cuts_under_30 = [hairstyles[i] for i in range((len(new_prices))-1) if new_prices[i] < 30]\n",
    "print(cuts_under_30)"
   ]
  }
 ],
 "metadata": {
  "kernelspec": {
   "display_name": "Python 3 (ipykernel)",
   "language": "python",
   "name": "python3"
  },
  "language_info": {
   "codemirror_mode": {
    "name": "ipython",
    "version": 3
   },
   "file_extension": ".py",
   "mimetype": "text/x-python",
   "name": "python",
   "nbconvert_exporter": "python",
   "pygments_lexer": "ipython3",
   "version": "3.9.12"
  }
 },
 "nbformat": 4,
 "nbformat_minor": 5
}
