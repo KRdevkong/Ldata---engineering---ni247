{
 "cells": [
  {
   "cell_type": "code",
   "execution_count": 9,
   "id": "bf19b2f5-fa1b-4963-9999-28747c9cb16b",
   "metadata": {},
   "outputs": [],
   "source": [
    "name_1 = ['쌍', '쇠', '복', '돌', '팽', '육', '쌍', '개', '칠', '갑', '삼', '방']\n",
    "name_2 = ['봉', '구', '욕', '포', '똥', '삼', '식', '석', '놈', '님', '년', '돌', '단', '득', '방', '질', \n",
    "          '장', '걸', '래', '룡', '동', '순', '자', '박', '창', '언', '것', '포', '만', '단', '국']"
   ]
  },
  {
   "cell_type": "code",
   "execution_count": 15,
   "id": "e0bd1c30-692f-4f87-86b3-a776fbe678f1",
   "metadata": {},
   "outputs": [],
   "source": [
    "def get_my_chosun_name(family_name, month, day):\n",
    "    chosun_name = family_name + name_1[month - 1] + name_2[day - 1]\n",
    "    return chosun_name"
   ]
  },
  {
   "cell_type": "code",
   "execution_count": 16,
   "id": "541d7bd2-5b3d-4047-a020-bd84d9ff3014",
   "metadata": {},
   "outputs": [
    {
     "name": "stdout",
     "output_type": "stream",
     "text": [
      "당신의 조선시대 이름은 노갑래 입니다.\n"
     ]
    }
   ],
   "source": [
    "print('당신의 조선시대 이름은', get_my_chosun_name('노', 10, 19), '입니다.')"
   ]
  }
 ],
 "metadata": {
  "kernelspec": {
   "display_name": "Python 3 (ipykernel)",
   "language": "python",
   "name": "python3"
  },
  "language_info": {
   "codemirror_mode": {
    "name": "ipython",
    "version": 3
   },
   "file_extension": ".py",
   "mimetype": "text/x-python",
   "name": "python",
   "nbconvert_exporter": "python",
   "pygments_lexer": "ipython3",
   "version": "3.9.12"
  }
 },
 "nbformat": 4,
 "nbformat_minor": 5
}
